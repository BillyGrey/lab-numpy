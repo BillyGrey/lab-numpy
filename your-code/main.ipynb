{
 "cells": [
  {
   "cell_type": "markdown",
   "metadata": {},
   "source": [
    "# Intrduction to NumPy\n",
    "\n",
    "\n",
    "#### 1. Import NumPy under the name np."
   ]
  },
  {
   "cell_type": "code",
   "execution_count": 3,
   "metadata": {},
   "outputs": [],
   "source": [
    "# your code here\n",
    "import numpy as np"
   ]
  },
  {
   "cell_type": "markdown",
   "metadata": {},
   "source": [
    "#### 2. Print your NumPy version."
   ]
  },
  {
   "cell_type": "code",
   "execution_count": 4,
   "metadata": {},
   "outputs": [
    {
     "name": "stdout",
     "output_type": "stream",
     "text": [
      "1.21.5\n"
     ]
    }
   ],
   "source": [
    "# your code here\n",
    "print(np.version.version)"
   ]
  },
  {
   "cell_type": "markdown",
   "metadata": {},
   "source": [
    "#### 3. Generate a 2x3x5 3-dimensional array with random values. Assign the array to variable *a*.\n",
    "**Challenge**: there are at least three easy ways that use numpy to generate random arrays. How many ways can you find?"
   ]
  },
  {
   "cell_type": "code",
   "execution_count": 5,
   "metadata": {},
   "outputs": [],
   "source": [
    "# Method 1 Make a Random Array with the .random.random\n",
    "a = np.random.random((2,3,5))"
   ]
  },
  {
   "cell_type": "code",
   "execution_count": 6,
   "metadata": {},
   "outputs": [],
   "source": [
    "# Method 2 Using lists with random numbers and convert them to an array\n",
    "a = np.array([[[1, 2, 3, 4, 5], [3, 4, 3, 4, 3, ], [3, 4, 3, 4, 3, ]], [[5, 6, 3, 5, 6], [7, 8, 3, 4, 7], [3, 4, 3, 4, 3, ]]])"
   ]
  },
  {
   "cell_type": "code",
   "execution_count": 7,
   "metadata": {},
   "outputs": [],
   "source": [
    "# Method 3 Reshape an existing array\n",
    "a = (np.random.random((3,5,2))).reshape(2,3,5)\n"
   ]
  },
  {
   "cell_type": "markdown",
   "metadata": {},
   "source": [
    "#### 4. Print *a*.\n"
   ]
  },
  {
   "cell_type": "code",
   "execution_count": 8,
   "metadata": {},
   "outputs": [
    {
     "name": "stdout",
     "output_type": "stream",
     "text": [
      "[[[0.00464312 0.94691879 0.02984961 0.27018632 0.94045694]\n",
      "  [0.31931921 0.68006492 0.92952451 0.82968184 0.27259965]\n",
      "  [0.46809694 0.98665943 0.58276136 0.26059739 0.49403273]]\n",
      "\n",
      " [[0.46450408 0.61601987 0.77993737 0.78346448 0.00268526]\n",
      "  [0.29697656 0.97355295 0.60076447 0.02544459 0.06286578]\n",
      "  [0.64912949 0.55952939 0.87046637 0.53607584 0.48164286]]]\n"
     ]
    }
   ],
   "source": [
    "# your code here\n",
    "print(a)"
   ]
  },
  {
   "cell_type": "markdown",
   "metadata": {},
   "source": [
    "#### 5. Create a 5x2x3 3-dimensional array with all values equaling 1. Assign the array to variable *b*."
   ]
  },
  {
   "cell_type": "code",
   "execution_count": 9,
   "metadata": {},
   "outputs": [],
   "source": [
    "# your code here\n",
    "b = np.ones((5,2,3), dtype = int)"
   ]
  },
  {
   "cell_type": "markdown",
   "metadata": {},
   "source": [
    "#### 6. Print *b*.\n"
   ]
  },
  {
   "cell_type": "code",
   "execution_count": 10,
   "metadata": {},
   "outputs": [
    {
     "name": "stdout",
     "output_type": "stream",
     "text": [
      "[[[1 1 1]\n",
      "  [1 1 1]]\n",
      "\n",
      " [[1 1 1]\n",
      "  [1 1 1]]\n",
      "\n",
      " [[1 1 1]\n",
      "  [1 1 1]]\n",
      "\n",
      " [[1 1 1]\n",
      "  [1 1 1]]\n",
      "\n",
      " [[1 1 1]\n",
      "  [1 1 1]]]\n"
     ]
    }
   ],
   "source": [
    "# your code here\n",
    "print(b)"
   ]
  },
  {
   "cell_type": "markdown",
   "metadata": {},
   "source": [
    "#### 7. Do *a* and *b* have the same size? How do you prove that in Python code?"
   ]
  },
  {
   "cell_type": "code",
   "execution_count": 11,
   "metadata": {},
   "outputs": [
    {
     "data": {
      "text/plain": [
       "False"
      ]
     },
     "execution_count": 11,
     "metadata": {},
     "output_type": "execute_result"
    }
   ],
   "source": [
    "# your code here\n",
    "a.shape == b.shape"
   ]
  },
  {
   "cell_type": "markdown",
   "metadata": {},
   "source": [
    "#### 8. Are you able to add *a* and *b*? Why or why not?\n"
   ]
  },
  {
   "cell_type": "code",
   "execution_count": 12,
   "metadata": {},
   "outputs": [],
   "source": [
    "# your answer here\n",
    "#No, because the arrays a and b do NOT have the same dimensions\n"
   ]
  },
  {
   "cell_type": "markdown",
   "metadata": {},
   "source": [
    "#### 9. Transpose *b* so that it has the same structure of *a* (i.e. become a 2x3x5 array). Assign the transposed array to variable *c*."
   ]
  },
  {
   "cell_type": "code",
   "execution_count": 13,
   "metadata": {},
   "outputs": [
    {
     "data": {
      "text/plain": [
       "(2, 3, 5)"
      ]
     },
     "execution_count": 13,
     "metadata": {},
     "output_type": "execute_result"
    }
   ],
   "source": [
    "# your code here\n",
    "c = np.transpose(b, (1,2,0))\n",
    "c.shape"
   ]
  },
  {
   "cell_type": "markdown",
   "metadata": {},
   "source": [
    "#### 10. Try to add *a* and *c*. Now it should work. Assign the sum to variable *d*. But why does it work now?"
   ]
  },
  {
   "cell_type": "code",
   "execution_count": 14,
   "metadata": {},
   "outputs": [
    {
     "data": {
      "text/plain": [
       "array([[[1.00464312, 1.94691879, 1.02984961, 1.27018632, 1.94045694],\n",
       "        [1.31931921, 1.68006492, 1.92952451, 1.82968184, 1.27259965],\n",
       "        [1.46809694, 1.98665943, 1.58276136, 1.26059739, 1.49403273]],\n",
       "\n",
       "       [[1.46450408, 1.61601987, 1.77993737, 1.78346448, 1.00268526],\n",
       "        [1.29697656, 1.97355295, 1.60076447, 1.02544459, 1.06286578],\n",
       "        [1.64912949, 1.55952939, 1.87046637, 1.53607584, 1.48164286]]])"
      ]
     },
     "execution_count": 14,
     "metadata": {},
     "output_type": "execute_result"
    }
   ],
   "source": [
    "# your code/answer here\n",
    "d = a + c\n",
    "d\n",
    "#Because the arrays have the same dimensions"
   ]
  },
  {
   "cell_type": "markdown",
   "metadata": {},
   "source": [
    "#### 11. Print *a* and *d*. Notice the difference and relation of the two array in terms of the values? Explain."
   ]
  },
  {
   "cell_type": "code",
   "execution_count": 15,
   "metadata": {},
   "outputs": [
    {
     "name": "stdout",
     "output_type": "stream",
     "text": [
      "[[[0.00464312 0.94691879 0.02984961 0.27018632 0.94045694]\n",
      "  [0.31931921 0.68006492 0.92952451 0.82968184 0.27259965]\n",
      "  [0.46809694 0.98665943 0.58276136 0.26059739 0.49403273]]\n",
      "\n",
      " [[0.46450408 0.61601987 0.77993737 0.78346448 0.00268526]\n",
      "  [0.29697656 0.97355295 0.60076447 0.02544459 0.06286578]\n",
      "  [0.64912949 0.55952939 0.87046637 0.53607584 0.48164286]]]\n",
      "----------------------------------------------------\n",
      "[[[1.00464312 1.94691879 1.02984961 1.27018632 1.94045694]\n",
      "  [1.31931921 1.68006492 1.92952451 1.82968184 1.27259965]\n",
      "  [1.46809694 1.98665943 1.58276136 1.26059739 1.49403273]]\n",
      "\n",
      " [[1.46450408 1.61601987 1.77993737 1.78346448 1.00268526]\n",
      "  [1.29697656 1.97355295 1.60076447 1.02544459 1.06286578]\n",
      "  [1.64912949 1.55952939 1.87046637 1.53607584 1.48164286]]]\n"
     ]
    }
   ],
   "source": [
    "print(a)\n",
    "\n",
    "print(\"----------------------------------------------------\")\n",
    "print(d)\n",
    "\n",
    "#Matrix d values are equal to matrix a values+1 due to the previous sum with matrix c, which was an array whose values were all 1"
   ]
  },
  {
   "cell_type": "markdown",
   "metadata": {},
   "source": [
    "#### 12. Multiply *a* and *c*. Assign the result to *e*."
   ]
  },
  {
   "cell_type": "code",
   "execution_count": 16,
   "metadata": {},
   "outputs": [],
   "source": [
    "# your code here\n",
    "e = a*c\n"
   ]
  },
  {
   "cell_type": "markdown",
   "metadata": {},
   "source": [
    "#### 13. Does *e* equal to *a*? Why or why not?\n"
   ]
  },
  {
   "cell_type": "code",
   "execution_count": 17,
   "metadata": {},
   "outputs": [
    {
     "data": {
      "text/plain": [
       "array([[[ True,  True,  True,  True,  True],\n",
       "        [ True,  True,  True,  True,  True],\n",
       "        [ True,  True,  True,  True,  True]],\n",
       "\n",
       "       [[ True,  True,  True,  True,  True],\n",
       "        [ True,  True,  True,  True,  True],\n",
       "        [ True,  True,  True,  True,  True]]])"
      ]
     },
     "execution_count": 17,
     "metadata": {},
     "output_type": "execute_result"
    }
   ],
   "source": [
    "# your code/answer here\n",
    "e == a \n",
    "#Yes! Because we multiplied the matrix a values with the matrix c values (which are all 1)"
   ]
  },
  {
   "cell_type": "markdown",
   "metadata": {},
   "source": [
    "#### 14. Identify the max, min, and mean values in *d*. Assign those values to variables *d_max*, *d_min* and *d_mean*."
   ]
  },
  {
   "cell_type": "code",
   "execution_count": 18,
   "metadata": {},
   "outputs": [
    {
     "name": "stdout",
     "output_type": "stream",
     "text": [
      "1.9866594272282194\n",
      "1.002685264082344\n",
      "1.523948403458608\n"
     ]
    }
   ],
   "source": [
    "# your code here\n",
    "d_max = np.max(d)\n",
    "print(d_max)\n",
    "\n",
    "d_min = np.min(d)\n",
    "print(d_min)\n",
    "\n",
    "d_mean = np.mean(d)\n",
    "print(d_mean)\n"
   ]
  },
  {
   "cell_type": "markdown",
   "metadata": {},
   "source": [
    "#### 15. Now we want to label the values in *d*. First create an empty array *f* with the same shape (i.e. 2x3x5) as *d* using `np.empty`.\n"
   ]
  },
  {
   "cell_type": "code",
   "execution_count": 19,
   "metadata": {},
   "outputs": [
    {
     "name": "stdout",
     "output_type": "stream",
     "text": [
      "[[[1.00464312 1.94691879 1.02984961 1.27018632 1.94045694]\n",
      "  [1.31931921 1.68006492 1.92952451 1.82968184 1.27259965]\n",
      "  [1.46809694 1.98665943 1.58276136 1.26059739 1.49403273]]\n",
      "\n",
      " [[1.46450408 1.61601987 1.77993737 1.78346448 1.00268526]\n",
      "  [1.29697656 1.97355295 1.60076447 1.02544459 1.06286578]\n",
      "  [1.64912949 1.55952939 1.87046637 1.53607584 1.48164286]]]\n"
     ]
    }
   ],
   "source": [
    "# your code here\n",
    "f = np.empty((2,3,5))\n",
    "print(f)"
   ]
  },
  {
   "cell_type": "markdown",
   "metadata": {},
   "source": [
    "#### 16. Populate the values in *f*. \n",
    "\n",
    "For each value in *d*, if it's larger than *d_min* but smaller than *d_mean*, assign 25 to the corresponding value in *f*. If a value in *d* is larger than *d_mean* but smaller than *d_max*, assign 75 to the corresponding value in *f*. If a value equals to *d_mean*, assign 50 to the corresponding value in *f*. Assign 0 to the corresponding value(s) in *f* for *d_min* in *d*. Assign 100 to the corresponding value(s) in *f* for *d_max* in *d*. In the end, f should have only the following values: 0, 25, 50, 75, and 100.\n",
    "\n",
    "**Note**: you don't have to use Numpy in this question."
   ]
  },
  {
   "cell_type": "code",
   "execution_count": 45,
   "metadata": {},
   "outputs": [
    {
     "data": {
      "text/plain": [
       "array([[[ 25,  75,  25,  25,  75],\n",
       "        [ 25,  75,  75,  75,  25],\n",
       "        [ 25, 100,  75,  25,  25]],\n",
       "\n",
       "       [[ 25,  75,  75,  75,   0],\n",
       "        [ 25,  75,  75,  25,  25],\n",
       "        [ 75,  75,  75,  75,  25]]])"
      ]
     },
     "execution_count": 45,
     "metadata": {},
     "output_type": "execute_result"
    }
   ],
   "source": [
    "# your code here\n",
    "\n",
    "#fast and easey way\n",
    "# f = 25 * (d > d_min) * (d < d_mean) + 75 * (d < d_max) * (d > d_mean) + 0 * (d == d_min) + 100 * (d == d_max) + 50 * (d == d_mean)\n",
    "\n",
    "\n",
    "f_list =[]\n",
    "for list_ in d:\n",
    "    for sublist_ in list_:\n",
    "        for item in sublist_:\n",
    "            if d_min < item < d_mean:\n",
    "                f_list.append(25)\n",
    "            if d_mean < item < d_max:\n",
    "                f_list.append(75)\n",
    "            if item == d_min:\n",
    "                f_list.append(0)\n",
    "            if item == d_mean:\n",
    "                f_list.append(50)\n",
    "            if item == d_max:\n",
    "                f_list.append(100)\n",
    "f1 = np.array(f_list)\n",
    "f =f1.reshape(2,3,5)\n",
    "f\n"
   ]
  },
  {
   "cell_type": "markdown",
   "metadata": {},
   "source": [
    "#### 17. Print *d* and *f*. Do you have your expected *f*?\n",
    "For instance, if your *d* is:\n",
    "```python\n",
    "[[[1.85836099, 1.67064465, 1.62576044, 1.40243961, 1.88454931],\n",
    "[1.75354326, 1.69403643, 1.36729252, 1.61415071, 1.12104981],\n",
    "[1.72201435, 1.1862918 , 1.87078449, 1.7726778 , 1.88180042]],\n",
    "[[1.44747908, 1.31673383, 1.02000951, 1.52218947, 1.97066381],\n",
    "[1.79129243, 1.74983003, 1.96028037, 1.85166831, 1.65450881],\n",
    "[1.18068344, 1.9587381 , 1.00656599, 1.93402165, 1.73514584]]]\n",
    "```\n",
    "Your *f* should be:\n",
    "```python\n",
    "[[[ 75.,  75.,  75.,  25.,  75.],\n",
    "[ 75.,  75.,  25.,  25.,  25.],\n",
    "[ 75.,  25.,  75.,  75.,  75.]],\n",
    "[[ 25.,  25.,  25.,  25., 100.],\n",
    "[ 75.,  75.,  75.,  75.,  75.],\n",
    "[ 25.,  75.,   0.,  75.,  75.]]]\n",
    "```"
   ]
  },
  {
   "cell_type": "code",
   "execution_count": 21,
   "metadata": {},
   "outputs": [
    {
     "name": "stdout",
     "output_type": "stream",
     "text": [
      "[[[1.00464312 1.94691879 1.02984961 1.27018632 1.94045694]\n",
      "  [1.31931921 1.68006492 1.92952451 1.82968184 1.27259965]\n",
      "  [1.46809694 1.98665943 1.58276136 1.26059739 1.49403273]]\n",
      "\n",
      " [[1.46450408 1.61601987 1.77993737 1.78346448 1.00268526]\n",
      "  [1.29697656 1.97355295 1.60076447 1.02544459 1.06286578]\n",
      "  [1.64912949 1.55952939 1.87046637 1.53607584 1.48164286]]]\n",
      "[[[ 25  75  25  25  75]\n",
      "  [ 25  75  75  75  25]\n",
      "  [ 25 100  75  25  25]]\n",
      "\n",
      " [[ 25  75  75  75   0]\n",
      "  [ 25  75  75  25  25]\n",
      "  [ 75  75  75  75  25]]]\n"
     ]
    }
   ],
   "source": [
    "# your code here\n",
    "print(d)\n",
    "print(f)"
   ]
  },
  {
   "cell_type": "markdown",
   "metadata": {},
   "source": [
    "#### 18. Bonus question: instead of using numbers (i.e. 0, 25, 50, 75, and 100), use string values  (\"A\", \"B\", \"C\", \"D\", and \"E\") to label the array elements. For the example above, the expected result is:\n",
    "\n",
    "```python\n",
    "[[[ 'D',  'D',  'D',  'B',  'D'],\n",
    "[ 'D',  'D',  'B',  'B',  'B'],\n",
    "[ 'D',  'B',  'D',  'D',  'D']],\n",
    "[[ 'B',  'B',  'B',  'B',  'E'],\n",
    "[ 'D',  'D',  'D',  'D',  'D'],\n",
    "[ 'B',  'D',   'A',  'D', 'D']]]\n",
    "```\n",
    "**Note**: you don't have to use Numpy in this question."
   ]
  },
  {
   "cell_type": "code",
   "execution_count": 46,
   "metadata": {},
   "outputs": [
    {
     "data": {
      "text/plain": [
       "array([[['B', 'D', 'B', 'B', 'D'],\n",
       "        ['B', 'D', 'D', 'D', 'B'],\n",
       "        ['B', 'E', 'D', 'B', 'B']],\n",
       "\n",
       "       [['B', 'D', 'D', 'D', 'A'],\n",
       "        ['B', 'D', 'D', 'B', 'B'],\n",
       "        ['D', 'D', 'D', 'D', 'B']]], dtype='<U1')"
      ]
     },
     "execution_count": 46,
     "metadata": {},
     "output_type": "execute_result"
    }
   ],
   "source": [
    "\n",
    "f_list =[]\n",
    "for list_ in d:\n",
    "    for sublist_ in list_:\n",
    "        for item in sublist_:\n",
    "            if d_min < item < d_mean:\n",
    "                f_list.append(\"B\")\n",
    "            if d_mean < item < d_max:\n",
    "                f_list.append(\"D\")\n",
    "            if item == d_min:\n",
    "                f_list.append(\"A\")\n",
    "            if item == d_mean:\n",
    "                f_list.append(\"C\")\n",
    "            if item == d_max:\n",
    "                f_list.append(\"E\")\n",
    "f1 = np.array(f_list)\n",
    "f =f1.reshape(2,3,5)\n",
    "f\n",
    "   "
   ]
  }
 ],
 "metadata": {
  "kernelspec": {
   "display_name": "Python 3 (ipykernel)",
   "language": "python",
   "name": "python3"
  },
  "language_info": {
   "codemirror_mode": {
    "name": "ipython",
    "version": 3
   },
   "file_extension": ".py",
   "mimetype": "text/x-python",
   "name": "python",
   "nbconvert_exporter": "python",
   "pygments_lexer": "ipython3",
   "version": "3.9.13"
  }
 },
 "nbformat": 4,
 "nbformat_minor": 2
}
